{
 "cells": [
  {
   "cell_type": "code",
   "execution_count": 1,
   "metadata": {},
   "outputs": [],
   "source": [
    "import requests                  # 웹 페이지의 HTML을 가져오는 모듈\n",
    "from bs4 import BeautifulSoup    # HTML을 파싱하는 모듈\n",
    "import time\n",
    "import json\n",
    "import urllib.request\n",
    "import os\n",
    "import sys\n",
    "from PIL import Image\n",
    "\n",
    "import json\n",
    "from collections import OrderedDict\n",
    "\n",
    "def find_user (name) :\n",
    "    user_url = \"https://maplestory.nexon.com/Ranking/World/Total?c=\" + name\n",
    "    \n",
    "    res = requests.get(user_url)\n",
    "    user_info = BeautifulSoup(res.content, 'html.parser')\n",
    "    \n",
    "    if user_info.find('div', {'class' : 'none_list2'}) :\n",
    "        print(\"닉네임: no data\")\n",
    "        print(\"길드명: no data\")\n",
    "        return \"no data\"\n",
    "    else :\n",
    "        table = user_info.find('tbody')\n",
    "\n",
    "        if table :\n",
    "            for tr in table.find_all('tr'):      # 모든 <tr> 태그를 찾아서 반복(각 지점의 데이터를 가져옴)\n",
    "                tds = list(tr.find_all('td'))    # 모든 <td> 태그를 찾아서 리스트로 만듦\n",
    "\n",
    "                a = tr.find('a')\n",
    "                parse_name = tds[1].find('a').text\n",
    "                guild_name = tds[5].text\n",
    "                img_src = tds[1].find('img')['src']\n",
    "                if(parse_name == name) :\n",
    "                    print(\"닉네임: \" + parse_name)\n",
    "                    print(\"길드명: \" + guild_name)\n",
    "                    \n",
    "                    return img_src\n",
    "                "
   ]
  },
  {
   "cell_type": "code",
   "execution_count": 6,
   "metadata": {},
   "outputs": [],
   "source": [
    "def downloadIMG (name) :\n",
    "    url = find_user(name)\n",
    "    if(url == \"no data\") :\n",
    "        print(\"일치하는 케릭터가 존재하지 않습니다.\")\n",
    "        return\n",
    "    else :\n",
    "        urllib.request.urlretrieve(url, name + \".png\")\n",
    "        print(\"다운로드 완료!\")\n",
    "        img = Image.open(name + \".png\")\n",
    "        img.show()"
   ]
  },
  {
   "cell_type": "code",
   "execution_count": 4,
   "metadata": {},
   "outputs": [],
   "source": [
    "def init() :\n",
    "    print(\"이 프로그램은 메이플 스토리 케릭터 이미지파일 다운로더 입니다.\\n\")\n",
    "    print(\"케릭터의 닉네임을 입력해주세요.\\n\")\n",
    "    print(\"닉네임 : \")\n",
    "    nickname = input()\n",
    "    downloadIMG(nickname)\n",
    "    "
   ]
  },
  {
   "cell_type": "code",
   "execution_count": 7,
   "metadata": {},
   "outputs": [
    {
     "name": "stdout",
     "output_type": "stream",
     "text": [
      "이 프로그램은 메이플 스토리 케릭터 이미지파일 다운로더 입니다.\n",
      "\n",
      "케릭터의 닉네임을 입력해주세요.\n",
      "\n",
      "닉네임 : \n",
      "간장커피치킨\n",
      "닉네임: 간장커피치킨\n",
      "길드명: \n",
      "다운로드 완료!\n"
     ]
    }
   ],
   "source": [
    "init()"
   ]
  }
 ],
 "metadata": {
  "kernelspec": {
   "display_name": "Python 3",
   "language": "python",
   "name": "python3"
  },
  "language_info": {
   "codemirror_mode": {
    "name": "ipython",
    "version": 3
   },
   "file_extension": ".py",
   "mimetype": "text/x-python",
   "name": "python",
   "nbconvert_exporter": "python",
   "pygments_lexer": "ipython3",
   "version": "3.8.5"
  }
 },
 "nbformat": 4,
 "nbformat_minor": 4
}
